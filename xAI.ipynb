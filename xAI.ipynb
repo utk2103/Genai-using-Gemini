{
  "nbformat": 4,
  "nbformat_minor": 0,
  "metadata": {
    "colab": {
      "provenance": [],
      "authorship_tag": "ABX9TyMcAYisM1Et5O1Vj+yor7y/",
      "include_colab_link": true
    },
    "kernelspec": {
      "name": "python3",
      "display_name": "Python 3"
    },
    "language_info": {
      "name": "python"
    }
  },
  "cells": [
    {
      "cell_type": "markdown",
      "metadata": {
        "id": "view-in-github",
        "colab_type": "text"
      },
      "source": [
        "<a href=\"https://colab.research.google.com/github/utk2103/Genai-using-Gemini/blob/main/xAI.ipynb\" target=\"_parent\"><img src=\"https://colab.research.google.com/assets/colab-badge.svg\" alt=\"Open In Colab\"/></a>"
      ]
    },
    {
      "cell_type": "markdown",
      "source": [
        "ai assitant that can fetch news content from urls and write a post about it on my own stle."
      ],
      "metadata": {
        "id": "dTzxJ23JI8EU"
      }
    },
    {
      "cell_type": "code",
      "execution_count": null,
      "metadata": {
        "id": "aR2PevWJI3Hg"
      },
      "outputs": [],
      "source": [
        "import os\n",
        "from openai import OpenAI\n",
        "from google.colab import userdata\n",
        "import requests\n",
        "from bs4 import BeautifulSoup\n",
        "import re"
      ]
    },
    {
      "cell_type": "code",
      "source": [
        "def create_style_assistant(writing_example):\n",
        "    XAI_API_KEY = \"YOUR_XAI_API_KEY_GOES_HERE\"\n",
        "    client = OpenAI(\n",
        "        api_key=XAI_API_KEY,\n",
        "        base_url=\"https://api.x.ai/v1\",\n",
        "    )\n",
        "    system_message = f\"\"\"Analyze this writing example and mimic its style, tone, and voice in your responses: {writing_example} Maintain this same writing style in all your responses.\"\"\"\n",
        "\n",
        "    return client, system_message\n",
        "\n",
        "def generate_response(client, system_message, prompt):\n",
        "    completion = client.chat.completions.create(\n",
        "        model=\"grok-beta\",\n",
        "        messages=[\n",
        "            {\"role\": \"system\", \"content\": system_message},\n",
        "            {\"role\": \"user\", \"content\": prompt},\n",
        "        ]\n",
        "    )\n",
        "\n",
        "    return completion.choices[0].message.content\n",
        "\n",
        "if __name__ == \"__main__\":\n",
        "    my_writing_style = \"\"\"YOUR WRITING EXAMPLES GO HERE\"\"\"\n",
        "\n",
        "    # Create the assistant\n",
        "    client, system_message = create_style_assistant(my_writing_style)\n",
        "\n",
        "    # Generate a response\n",
        "    prompt = f\"\"\"Write a post about this news:......\"\"\"\n",
        "    response = generate_response(client, system_message, prompt)\n",
        "    print(response)"
      ],
      "metadata": {
        "id": "a-I5Scf7JdHN"
      },
      "execution_count": null,
      "outputs": []
    }
  ]
}